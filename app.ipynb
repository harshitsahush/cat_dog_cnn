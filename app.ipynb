{
 "cells": [
  {
   "cell_type": "markdown",
   "metadata": {},
   "source": [
    "Tutorial link : https://towardsdatascience.com/build-your-first-cnn-with-tensorflow-a9d7394eaa2e"
   ]
  },
  {
   "cell_type": "markdown",
   "metadata": {},
   "source": [
    "Dataset link : https://www.kaggle.com/datasets/tanlikesmath/the-oxfordiiit-pet-dataset"
   ]
  },
  {
   "cell_type": "code",
   "execution_count": null,
   "metadata": {},
   "outputs": [],
   "source": [
    "!pip install tensorflow\n",
    "!pip install numpy\n",
    "!pip install pandas"
   ]
  },
  {
   "cell_type": "code",
   "execution_count": null,
   "metadata": {},
   "outputs": [],
   "source": [
    "import pandas as pd\n",
    "import glob\n",
    "import numpy as np\n",
    "import tensorflow as tf\n",
    "from tensorflow import keras\n",
    "from tensorflow.keras.preprocessing.image import ImageDataGenerator"
   ]
  },
  {
   "cell_type": "markdown",
   "metadata": {},
   "source": [
    "# Get data"
   ]
  },
  {
   "cell_type": "markdown",
   "metadata": {},
   "source": [
    " We will create two lists, one with all the photos of dogs and the other with all the images of cats."
   ]
  },
  {
   "cell_type": "code",
   "execution_count": null,
   "metadata": {},
   "outputs": [],
   "source": [
    "CATS = ['Abyssinian', 'Bengal', 'Birman', 'Bombay', 'British_Shorthair', 'Egyptian_Mau', 'Maine_Coon', 'Persian', 'Ragdoll', 'Russian_Blue', 'Siamese', 'Sphynx']\n",
    "\n",
    "cats_images = []\n",
    "dogs_images = []\n",
    "\n",
    "for img in glob.glob('images/*.jpg'):\n",
    "    if any(cat in img for cat in CATS):\n",
    "        cats_images.append(img)\n",
    "    else:\n",
    "        dogs_images.append(img)"
   ]
  },
  {
   "cell_type": "code",
   "execution_count": null,
   "metadata": {},
   "outputs": [],
   "source": [
    "#shuffle data\n",
    "np.random.shuffle(cats_images)\n",
    "np.random.shuffle(dogs_images)"
   ]
  },
  {
   "cell_type": "code",
   "execution_count": null,
   "metadata": {},
   "outputs": [],
   "source": [
    "#divide into train, validation and test sets\n",
    "train_d, val_d, test_d = np.split(dogs_images, [int(len(dogs_images)*0.7), int(len(dogs_images)*0.8)])\n",
    "train_c, val_c, test_c = np.split(cats_images, [int(len(cats_images)*0.7), int(len(cats_images)*0.8)])"
   ]
  },
  {
   "cell_type": "code",
   "execution_count": null,
   "metadata": {},
   "outputs": [],
   "source": [
    "# Now create dataframes using pandas\n",
    "# 2 cols, onw with image name, another with label \"cat\" or \"dog\"\n",
    "\n",
    "\n",
    "train_dog_df = pd.DataFrame({'image':train_d, 'label':'dog'})\n",
    "val_dog_df = pd.DataFrame({'image':val_d, 'label':'dog'})\n",
    "test_dog_df = pd.DataFrame({'image':test_d, 'label':'dog'})\n",
    "\n",
    "train_cat_df = pd.DataFrame({'image':train_c, 'label':'cat'})\n",
    "val_cat_df = pd.DataFrame({'image':val_c, 'label':'cat'})\n",
    "test_cat_df = pd.DataFrame({'image':test_c, 'label':'cat'})"
   ]
  },
  {
   "cell_type": "code",
   "execution_count": null,
   "metadata": {},
   "outputs": [],
   "source": [
    "#now concat thes dataframes, and create trainj, val and test data\n",
    "\n",
    "train_df = pd.concat([train_dog_df, train_cat_df])\n",
    "val_df = pd.concat([val_dog_df, val_cat_df])\n",
    "test_df = pd.concat([test_dog_df, test_cat_df])"
   ]
  },
  {
   "cell_type": "markdown",
   "metadata": {},
   "source": [
    "# Preprocess data"
   ]
  },
  {
   "cell_type": "markdown",
   "metadata": {},
   "source": [
    "Should have same dimensions, normalize pixels, create batches"
   ]
  },
  {
   "cell_type": "code",
   "execution_count": null,
   "metadata": {},
   "outputs": [],
   "source": [
    "BATCH_SIZE = 32\n",
    "IMG_HEIGHT = IMG_WIDTH = 224\n",
    "\n",
    "#create the ImageDataGenerator object and rescale the images\n",
    "train_gen = ImageDataGenerator(rescale = 1./255)\n",
    "val_gen = ImageDataGenerator(rescale = 1./255)\n",
    "test_gen = ImageDataGenerator(rescale = 1./255)\n",
    "\n",
    "#convert them into a dataset\n",
    "train_dataset = train_gen.flow_from_dataframe(\n",
    "    dataframe = train_df,\n",
    "    class_mode = \"binary\",\n",
    "    x_col = \"image\",\n",
    "    y_col = \"label\",\n",
    "    batch_size = BATCH_SIZE,\n",
    "    seed = 42,\n",
    "    shuffle = True,\n",
    "    target_size = (IMG_HEIGHT, IMG_WIDTH)\n",
    ")\n",
    "\n",
    "val_dataset = val_gen.flow_from_dataframe(\n",
    "    dataframe = val_df,\n",
    "    class_mode = \"binary\",\n",
    "    x_col = \"image\",\n",
    "    y_col = \"label\",\n",
    "    batch_size = BATCH_SIZE,\n",
    "    seed = 42,\n",
    "    shuffle = True,\n",
    "    target_size = (IMG_HEIGHT, IMG_WIDTH)\n",
    ")\n",
    "\n",
    "test_dataset = test_gen.flow_from_dataframe(\n",
    "    dataframe = test_df,\n",
    "    class_mode = \"binary\",\n",
    "    x_col = \"image\",\n",
    "    y_col = \"label\",\n",
    "    batch_size = BATCH_SIZE,\n",
    "    seed = 42,\n",
    "    shuffle = True,\n",
    "    target_size = (IMG_HEIGHT, IMG_WIDTH)\n",
    ")\n"
   ]
  },
  {
   "cell_type": "markdown",
   "metadata": {},
   "source": [
    "# Create model"
   ]
  },
  {
   "cell_type": "code",
   "execution_count": null,
   "metadata": {},
   "outputs": [],
   "source": [
    "model = tf.keras.Sequential([\n",
    "    keras.layers.InputLayer(input_shape = (IMG_HEIGHT, IMG_WIDTH, 3)),\n",
    "    keras.layers.Conv2D(64, (3, 3), activation='relu'),\n",
    "    keras.layers.MaxPooling2D((2, 2)),\n",
    "    keras.layers.Conv2D(128, (3, 3), activation='relu'),\n",
    "    keras.layers.MaxPooling2D((2, 2)),\n",
    "    keras.layers.Conv2D(256, (3, 3), activation='relu'),\n",
    "    keras.layers.MaxPooling2D((2, 2)),\n",
    "    keras.layers.Conv2D(512, (3, 3), activation='relu'),\n",
    "    keras.layers.GlobalAveragePooling2D(),\n",
    "    keras.layers.Dense(1, activation='sigmoid')\n",
    "])"
   ]
  },
  {
   "cell_type": "code",
   "execution_count": null,
   "metadata": {},
   "outputs": [],
   "source": [
    "model.compile(\n",
    "    loss = 'binary_crossentropy',\n",
    "    optimizer = \"adam\",\n",
    "    metrics = [\"accuracy\"]\n",
    ")"
   ]
  },
  {
   "cell_type": "code",
   "execution_count": null,
   "metadata": {},
   "outputs": [],
   "source": [
    "#for PIL error\n",
    "!pip install pillow                     \n",
    "!pip install scikit-learn"
   ]
  },
  {
   "cell_type": "code",
   "execution_count": null,
   "metadata": {},
   "outputs": [],
   "source": [
    "model.fit(\n",
    "    train_dataset,\n",
    "    epochs = 15,\n",
    "    validation_data = (val_dataset)\n",
    ")"
   ]
  },
  {
   "cell_type": "code",
   "execution_count": null,
   "metadata": {},
   "outputs": [],
   "source": []
  }
 ],
 "metadata": {
  "kernelspec": {
   "display_name": ".venv",
   "language": "python",
   "name": "python3"
  },
  "language_info": {
   "codemirror_mode": {
    "name": "ipython",
    "version": 3
   },
   "file_extension": ".py",
   "mimetype": "text/x-python",
   "name": "python",
   "nbconvert_exporter": "python",
   "pygments_lexer": "ipython3",
   "version": "3.10.14"
  }
 },
 "nbformat": 4,
 "nbformat_minor": 2
}
